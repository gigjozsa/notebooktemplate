{
 "cells": [
  {
   "cell_type": "markdown",
   "metadata": {},
   "source": [
    "***\n",
    "* [Content](../chapter_00_preface/00_00_introduction.ipynb#preface:sec:content)\n",
    "* [Glossary](../chapter_00_preface/00_01_glossary.ipynb#preface:sec:glossary)\n",
    "* [1. Somename](00_00_introduction.ipynb)  \n",
    "    * Next: [1.1 Somename 2](01_01_somename2.ipynb)\n",
    "***"
   ]
  },
  {
   "cell_type": "markdown",
   "metadata": {},
   "source": [
    "Import standard modules:"
   ]
  },
  {
   "cell_type": "code",
   "execution_count": null,
   "metadata": {
    "collapsed": false,
    "scrolled": true
   },
   "outputs": [],
   "source": [
    "import numpy as np\n",
    "import matplotlib.pyplot as plt\n",
    "%matplotlib inline\n",
    "from IPython.display import HTML \n",
    "HTML('../style/course.css') #apply general CSS"
   ]
  },
  {
   "cell_type": "markdown",
   "metadata": {},
   "source": [
    "Import section specific modules:"
   ]
  },
  {
   "cell_type": "code",
   "execution_count": null,
   "metadata": {
    "collapsed": true
   },
   "outputs": [],
   "source": [
    "pass"
   ]
  },
  {
   "cell_type": "code",
   "execution_count": null,
   "metadata": {
    "collapsed": true
   },
   "outputs": [],
   "source": [
    "HTML('../style/code_toggle.html')"
   ]
  },
  {
   "cell_type": "markdown",
   "metadata": {},
   "source": [
    "# Chapter 1: Somename<a id='somename:sec:intro'></a>"
   ]
  },
  {
   "cell_type": "markdown",
   "metadata": {},
   "source": [
    "Some introductory text to this chapter."
   ]
  },
  {
   "cell_type": "markdown",
   "metadata": {},
   "source": [
    "#### Chapter Outline"
   ]
  },
  {
   "cell_type": "markdown",
   "metadata": {},
   "source": [
    "<ol start=\"1\">\n",
    "<li>[Somename](../chapter_01_somename/01_00_introduction.ipynb)</li>\n",
    "    <ol start=\"1\">\n",
    "        <li>[Somename2](../chapter_01_somename/01_01_somename2.ipynb#somename:sec:somename2)</li>\n",
    "            <ol start=\"1\">\n",
    "                <li>[Somename21](../chapter_01_somename/01_01_somename2.ipynb#somename:sec:somename21)</li>\n",
    "                <li>[Somename22](../chapter_01_somename/01_01_somename2.ipynb#somename:sec:somename22)</li>\n",
    "            </ol>\n",
    "        <li>[Somename3](../chapter_01_somename/01_02_somename3.ipynb#somename:sec:somename3)</li>\n",
    "            <ol start=\"1\">\n",
    "                <li>[Somename31](../chapter_01_somename/01_02_somename3.ipynb#somename:sec:somename31)</li>\n",
    "                <li>[Somename32](../chapter_01_somename/01_02_somename3.ipynb#somename:sec:somename32)</li>\n",
    "            </ol>\n",
    "        <li>[1. Somename: References and further reading](../chapter_01_somename/01_references_and_further_reading.ipynb#somename:sec:references)</li>\n",
    "            <ol start=\"1\">\n",
    "                <li>[1. Somename: References](../chapter_01_somename/01_02_somename3.ipynb#somename:sec:references1')</li>\n",
    "                <li>[1. Somename: Further reading](../chapter_01_somename/01_02_somename3.ipynb#somename:sec:references2)</li>\n",
    "            </ol>\n",
    "        <li>[1. Somename: Appendix](../chapter_01_somename/01_appendix.ipynb#somename:sec:appendix')</li>\n",
    "            <ol start=\"1\">\n",
    "                <li>[1. Somename: Appendix: Bla](../chapter_01_somename/01_02_somename3.ipynb#somename:sec:appendix1')</li>\n",
    "            </ol>\n",
    "    </ol>\n",
    "</ol>"
   ]
  },
  {
   "cell_type": "markdown",
   "metadata": {},
   "source": [
    "### Chapter Editors\n",
    "* Name 1\n",
    "* Name 2\n",
    "\n",
    "#### Chapter Contributors\n",
    "\n",
    "* Name 3 (**1.0**, **1.1**)\n",
    "* Name 4 (**1.1**)"
   ]
  },
  {
   "cell_type": "markdown",
   "metadata": {},
   "source": [
    "***\n",
    "\n",
    "   * Next: [1.1 Somename 2](01_01_somename2.ipynb)\n"
   ]
  }
 ],
 "metadata": {
  "kernelspec": {
   "display_name": "Python 2",
   "language": "python",
   "name": "python2"
  },
  "language_info": {
   "codemirror_mode": {
    "name": "ipython",
    "version": 2
   },
   "file_extension": ".py",
   "mimetype": "text/x-python",
   "name": "python",
   "nbconvert_exporter": "python",
   "pygments_lexer": "ipython2",
   "version": "2.7.6"
  }
 },
 "nbformat": 4,
 "nbformat_minor": 0
}
